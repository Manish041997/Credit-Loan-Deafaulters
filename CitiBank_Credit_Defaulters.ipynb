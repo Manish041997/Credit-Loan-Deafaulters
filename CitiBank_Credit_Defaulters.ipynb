{
 "cells": [
  {
   "cell_type": "code",
   "execution_count": 76,
   "metadata": {},
   "outputs": [],
   "source": [
    "# Importing the necessary libraries\n",
    "\n",
    "import numpy as np\n",
    "from matplotlib import pyplot\n",
    "import pandas as pd\n",
    "from pandas import read_csv\n",
    "from pandas.plotting import scatter_matrix\n",
    "import seaborn as sn\n",
    "from sklearn.preprocessing import StandardScaler\n",
    "from sklearn.model_selection import train_test_split\n",
    "from sklearn.model_selection import KFold\n",
    "from sklearn.model_selection import cross_val_score\n",
    "from sklearn.model_selection import GridSearchCV\n",
    "from sklearn.neighbors import KNeighborsClassifier\n",
    "from sklearn.pipeline import Pipeline\n",
    "from sklearn.metrics import mean_squared_error\n",
    "from scipy.stats import zscore\n",
    "%matplotlib inline\n",
    "\n",
    "import warnings\n",
    "warnings.filterwarnings('ignore')"
   ]
  },
  {
   "cell_type": "code",
   "execution_count": 77,
   "metadata": {},
   "outputs": [
    {
     "data": {
      "text/html": [
       "<div>\n",
       "<style scoped>\n",
       "    .dataframe tbody tr th:only-of-type {\n",
       "        vertical-align: middle;\n",
       "    }\n",
       "\n",
       "    .dataframe tbody tr th {\n",
       "        vertical-align: top;\n",
       "    }\n",
       "\n",
       "    .dataframe thead th {\n",
       "        text-align: right;\n",
       "    }\n",
       "</style>\n",
       "<table border=\"1\" class=\"dataframe\">\n",
       "  <thead>\n",
       "    <tr style=\"text-align: right;\">\n",
       "      <th></th>\n",
       "      <th>Ref.No</th>\n",
       "      <th>X1</th>\n",
       "      <th>X2</th>\n",
       "      <th>X3</th>\n",
       "      <th>X4</th>\n",
       "      <th>X5</th>\n",
       "      <th>X6</th>\n",
       "      <th>X7</th>\n",
       "      <th>X8</th>\n",
       "      <th>X9</th>\n",
       "      <th>X10</th>\n",
       "      <th>X11</th>\n",
       "      <th>X12</th>\n",
       "      <th>X13</th>\n",
       "      <th>X14</th>\n",
       "      <th>X15</th>\n",
       "      <th>Y</th>\n",
       "    </tr>\n",
       "  </thead>\n",
       "  <tbody>\n",
       "    <tr>\n",
       "      <th>0</th>\n",
       "      <td>22203</td>\n",
       "      <td>320000</td>\n",
       "      <td>2</td>\n",
       "      <td>1</td>\n",
       "      <td>2</td>\n",
       "      <td>27</td>\n",
       "      <td>1</td>\n",
       "      <td>2</td>\n",
       "      <td>2</td>\n",
       "      <td>2</td>\n",
       "      <td>2</td>\n",
       "      <td>2</td>\n",
       "      <td>43243</td>\n",
       "      <td>42537</td>\n",
       "      <td>41370</td>\n",
       "      <td>40694</td>\n",
       "      <td>1</td>\n",
       "    </tr>\n",
       "    <tr>\n",
       "      <th>1</th>\n",
       "      <td>1288</td>\n",
       "      <td>470000</td>\n",
       "      <td>1</td>\n",
       "      <td>2</td>\n",
       "      <td>1</td>\n",
       "      <td>41</td>\n",
       "      <td>-2</td>\n",
       "      <td>-2</td>\n",
       "      <td>-2</td>\n",
       "      <td>-2</td>\n",
       "      <td>-2</td>\n",
       "      <td>-1</td>\n",
       "      <td>13780</td>\n",
       "      <td>12242</td>\n",
       "      <td>32463</td>\n",
       "      <td>20621</td>\n",
       "      <td>0</td>\n",
       "    </tr>\n",
       "    <tr>\n",
       "      <th>2</th>\n",
       "      <td>11822</td>\n",
       "      <td>20000</td>\n",
       "      <td>1</td>\n",
       "      <td>2</td>\n",
       "      <td>2</td>\n",
       "      <td>25</td>\n",
       "      <td>1</td>\n",
       "      <td>2</td>\n",
       "      <td>0</td>\n",
       "      <td>0</td>\n",
       "      <td>0</td>\n",
       "      <td>0</td>\n",
       "      <td>20415</td>\n",
       "      <td>18266</td>\n",
       "      <td>18921</td>\n",
       "      <td>19297</td>\n",
       "      <td>0</td>\n",
       "    </tr>\n",
       "    <tr>\n",
       "      <th>3</th>\n",
       "      <td>15085</td>\n",
       "      <td>80000</td>\n",
       "      <td>1</td>\n",
       "      <td>3</td>\n",
       "      <td>1</td>\n",
       "      <td>41</td>\n",
       "      <td>0</td>\n",
       "      <td>0</td>\n",
       "      <td>0</td>\n",
       "      <td>0</td>\n",
       "      <td>0</td>\n",
       "      <td>-1</td>\n",
       "      <td>76015</td>\n",
       "      <td>77582</td>\n",
       "      <td>60311</td>\n",
       "      <td>62471</td>\n",
       "      <td>1</td>\n",
       "    </tr>\n",
       "    <tr>\n",
       "      <th>4</th>\n",
       "      <td>6192</td>\n",
       "      <td>30000</td>\n",
       "      <td>1</td>\n",
       "      <td>1</td>\n",
       "      <td>2</td>\n",
       "      <td>30</td>\n",
       "      <td>1</td>\n",
       "      <td>-2</td>\n",
       "      <td>-2</td>\n",
       "      <td>-2</td>\n",
       "      <td>-2</td>\n",
       "      <td>-2</td>\n",
       "      <td>0</td>\n",
       "      <td>0</td>\n",
       "      <td>0</td>\n",
       "      <td>0</td>\n",
       "      <td>1</td>\n",
       "    </tr>\n",
       "  </tbody>\n",
       "</table>\n",
       "</div>"
      ],
      "text/plain": [
       "   Ref.No      X1  X2  X3  X4  X5  X6  X7  X8  X9  X10  X11    X12    X13  \\\n",
       "0   22203  320000   2   1   2  27   1   2   2   2    2    2  43243  42537   \n",
       "1    1288  470000   1   2   1  41  -2  -2  -2  -2   -2   -1  13780  12242   \n",
       "2   11822   20000   1   2   2  25   1   2   0   0    0    0  20415  18266   \n",
       "3   15085   80000   1   3   1  41   0   0   0   0    0   -1  76015  77582   \n",
       "4    6192   30000   1   1   2  30   1  -2  -2  -2   -2   -2      0      0   \n",
       "\n",
       "     X14    X15  Y  \n",
       "0  41370  40694  1  \n",
       "1  32463  20621  0  \n",
       "2  18921  19297  0  \n",
       "3  60311  62471  1  \n",
       "4      0      0  1  "
      ]
     },
     "execution_count": 77,
     "metadata": {},
     "output_type": "execute_result"
    }
   ],
   "source": [
    "filename = 'train1.csv'\n",
    "#names = ['Ref_no', 'Credit_Amount', 'Gender', 'Education', 'Marital_Status','AGE', 'Sep_status', 'August_Status',\n",
    "#          'April_status','September_bill','August_bill','April_bill','Defaulter?']\n",
    "#dataset = read_csv(filename,names = names,skiprows=1)\n",
    "dataset = read_csv(filename)\n",
    "dataset.head()"
   ]
  },
  {
   "cell_type": "code",
   "execution_count": 78,
   "metadata": {},
   "outputs": [
    {
     "name": "stdout",
     "output_type": "stream",
     "text": [
      "(21600, 17)\n"
     ]
    },
    {
     "data": {
      "text/html": [
       "<div>\n",
       "<style scoped>\n",
       "    .dataframe tbody tr th:only-of-type {\n",
       "        vertical-align: middle;\n",
       "    }\n",
       "\n",
       "    .dataframe tbody tr th {\n",
       "        vertical-align: top;\n",
       "    }\n",
       "\n",
       "    .dataframe thead th {\n",
       "        text-align: right;\n",
       "    }\n",
       "</style>\n",
       "<table border=\"1\" class=\"dataframe\">\n",
       "  <thead>\n",
       "    <tr style=\"text-align: right;\">\n",
       "      <th></th>\n",
       "      <th>count</th>\n",
       "      <th>mean</th>\n",
       "      <th>std</th>\n",
       "      <th>min</th>\n",
       "      <th>25%</th>\n",
       "      <th>50%</th>\n",
       "      <th>75%</th>\n",
       "      <th>max</th>\n",
       "    </tr>\n",
       "  </thead>\n",
       "  <tbody>\n",
       "    <tr>\n",
       "      <th>Ref.No</th>\n",
       "      <td>21600.0</td>\n",
       "      <td>12000.773750</td>\n",
       "      <td>6931.541584</td>\n",
       "      <td>1.0</td>\n",
       "      <td>6008.75</td>\n",
       "      <td>12001.5</td>\n",
       "      <td>17995.25</td>\n",
       "      <td>24000.0</td>\n",
       "    </tr>\n",
       "    <tr>\n",
       "      <th>X1</th>\n",
       "      <td>21600.0</td>\n",
       "      <td>165235.818519</td>\n",
       "      <td>129013.755215</td>\n",
       "      <td>10000.0</td>\n",
       "      <td>50000.00</td>\n",
       "      <td>140000.0</td>\n",
       "      <td>230000.00</td>\n",
       "      <td>1000000.0</td>\n",
       "    </tr>\n",
       "    <tr>\n",
       "      <th>X2</th>\n",
       "      <td>21600.0</td>\n",
       "      <td>1.626991</td>\n",
       "      <td>0.483616</td>\n",
       "      <td>1.0</td>\n",
       "      <td>1.00</td>\n",
       "      <td>2.0</td>\n",
       "      <td>2.00</td>\n",
       "      <td>2.0</td>\n",
       "    </tr>\n",
       "    <tr>\n",
       "      <th>X3</th>\n",
       "      <td>21600.0</td>\n",
       "      <td>1.845926</td>\n",
       "      <td>0.781139</td>\n",
       "      <td>0.0</td>\n",
       "      <td>1.00</td>\n",
       "      <td>2.0</td>\n",
       "      <td>2.00</td>\n",
       "      <td>6.0</td>\n",
       "    </tr>\n",
       "    <tr>\n",
       "      <th>X4</th>\n",
       "      <td>21600.0</td>\n",
       "      <td>1.558704</td>\n",
       "      <td>0.522008</td>\n",
       "      <td>0.0</td>\n",
       "      <td>1.00</td>\n",
       "      <td>2.0</td>\n",
       "      <td>2.00</td>\n",
       "      <td>3.0</td>\n",
       "    </tr>\n",
       "    <tr>\n",
       "      <th>X5</th>\n",
       "      <td>21600.0</td>\n",
       "      <td>35.382361</td>\n",
       "      <td>9.266769</td>\n",
       "      <td>21.0</td>\n",
       "      <td>28.00</td>\n",
       "      <td>34.0</td>\n",
       "      <td>41.00</td>\n",
       "      <td>79.0</td>\n",
       "    </tr>\n",
       "    <tr>\n",
       "      <th>X6</th>\n",
       "      <td>21600.0</td>\n",
       "      <td>-0.002917</td>\n",
       "      <td>1.126164</td>\n",
       "      <td>-2.0</td>\n",
       "      <td>-1.00</td>\n",
       "      <td>0.0</td>\n",
       "      <td>0.00</td>\n",
       "      <td>8.0</td>\n",
       "    </tr>\n",
       "    <tr>\n",
       "      <th>X7</th>\n",
       "      <td>21600.0</td>\n",
       "      <td>-0.124028</td>\n",
       "      <td>1.201892</td>\n",
       "      <td>-2.0</td>\n",
       "      <td>-1.00</td>\n",
       "      <td>0.0</td>\n",
       "      <td>0.00</td>\n",
       "      <td>8.0</td>\n",
       "    </tr>\n",
       "    <tr>\n",
       "      <th>X8</th>\n",
       "      <td>21600.0</td>\n",
       "      <td>-0.157176</td>\n",
       "      <td>1.203906</td>\n",
       "      <td>-2.0</td>\n",
       "      <td>-1.00</td>\n",
       "      <td>0.0</td>\n",
       "      <td>0.00</td>\n",
       "      <td>8.0</td>\n",
       "    </tr>\n",
       "    <tr>\n",
       "      <th>X9</th>\n",
       "      <td>21600.0</td>\n",
       "      <td>-0.214213</td>\n",
       "      <td>1.165579</td>\n",
       "      <td>-2.0</td>\n",
       "      <td>-1.00</td>\n",
       "      <td>0.0</td>\n",
       "      <td>0.00</td>\n",
       "      <td>8.0</td>\n",
       "    </tr>\n",
       "    <tr>\n",
       "      <th>X10</th>\n",
       "      <td>21600.0</td>\n",
       "      <td>-0.254028</td>\n",
       "      <td>1.137746</td>\n",
       "      <td>-2.0</td>\n",
       "      <td>-1.00</td>\n",
       "      <td>0.0</td>\n",
       "      <td>0.00</td>\n",
       "      <td>8.0</td>\n",
       "    </tr>\n",
       "    <tr>\n",
       "      <th>X11</th>\n",
       "      <td>21600.0</td>\n",
       "      <td>-0.280139</td>\n",
       "      <td>1.157968</td>\n",
       "      <td>-2.0</td>\n",
       "      <td>-1.00</td>\n",
       "      <td>0.0</td>\n",
       "      <td>0.00</td>\n",
       "      <td>8.0</td>\n",
       "    </tr>\n",
       "    <tr>\n",
       "      <th>X12</th>\n",
       "      <td>21600.0</td>\n",
       "      <td>50382.807546</td>\n",
       "      <td>72570.827360</td>\n",
       "      <td>-165580.0</td>\n",
       "      <td>3633.75</td>\n",
       "      <td>22182.0</td>\n",
       "      <td>65073.25</td>\n",
       "      <td>964511.0</td>\n",
       "    </tr>\n",
       "    <tr>\n",
       "      <th>X13</th>\n",
       "      <td>21600.0</td>\n",
       "      <td>48332.562407</td>\n",
       "      <td>70167.264656</td>\n",
       "      <td>-69777.0</td>\n",
       "      <td>3102.00</td>\n",
       "      <td>21095.5</td>\n",
       "      <td>61886.75</td>\n",
       "      <td>983931.0</td>\n",
       "    </tr>\n",
       "    <tr>\n",
       "      <th>X14</th>\n",
       "      <td>21600.0</td>\n",
       "      <td>46078.883009</td>\n",
       "      <td>68120.766812</td>\n",
       "      <td>-157264.0</td>\n",
       "      <td>2778.00</td>\n",
       "      <td>19978.0</td>\n",
       "      <td>58792.75</td>\n",
       "      <td>1664089.0</td>\n",
       "    </tr>\n",
       "    <tr>\n",
       "      <th>X15</th>\n",
       "      <td>21600.0</td>\n",
       "      <td>42103.725417</td>\n",
       "      <td>62928.222402</td>\n",
       "      <td>-170000.0</td>\n",
       "      <td>2311.50</td>\n",
       "      <td>18893.0</td>\n",
       "      <td>51549.00</td>\n",
       "      <td>891586.0</td>\n",
       "    </tr>\n",
       "    <tr>\n",
       "      <th>Y</th>\n",
       "      <td>21600.0</td>\n",
       "      <td>0.223796</td>\n",
       "      <td>0.416797</td>\n",
       "      <td>0.0</td>\n",
       "      <td>0.00</td>\n",
       "      <td>0.0</td>\n",
       "      <td>0.00</td>\n",
       "      <td>1.0</td>\n",
       "    </tr>\n",
       "  </tbody>\n",
       "</table>\n",
       "</div>"
      ],
      "text/plain": [
       "          count           mean            std       min       25%       50%  \\\n",
       "Ref.No  21600.0   12000.773750    6931.541584       1.0   6008.75   12001.5   \n",
       "X1      21600.0  165235.818519  129013.755215   10000.0  50000.00  140000.0   \n",
       "X2      21600.0       1.626991       0.483616       1.0      1.00       2.0   \n",
       "X3      21600.0       1.845926       0.781139       0.0      1.00       2.0   \n",
       "X4      21600.0       1.558704       0.522008       0.0      1.00       2.0   \n",
       "X5      21600.0      35.382361       9.266769      21.0     28.00      34.0   \n",
       "X6      21600.0      -0.002917       1.126164      -2.0     -1.00       0.0   \n",
       "X7      21600.0      -0.124028       1.201892      -2.0     -1.00       0.0   \n",
       "X8      21600.0      -0.157176       1.203906      -2.0     -1.00       0.0   \n",
       "X9      21600.0      -0.214213       1.165579      -2.0     -1.00       0.0   \n",
       "X10     21600.0      -0.254028       1.137746      -2.0     -1.00       0.0   \n",
       "X11     21600.0      -0.280139       1.157968      -2.0     -1.00       0.0   \n",
       "X12     21600.0   50382.807546   72570.827360 -165580.0   3633.75   22182.0   \n",
       "X13     21600.0   48332.562407   70167.264656  -69777.0   3102.00   21095.5   \n",
       "X14     21600.0   46078.883009   68120.766812 -157264.0   2778.00   19978.0   \n",
       "X15     21600.0   42103.725417   62928.222402 -170000.0   2311.50   18893.0   \n",
       "Y       21600.0       0.223796       0.416797       0.0      0.00       0.0   \n",
       "\n",
       "              75%        max  \n",
       "Ref.No   17995.25    24000.0  \n",
       "X1      230000.00  1000000.0  \n",
       "X2           2.00        2.0  \n",
       "X3           2.00        6.0  \n",
       "X4           2.00        3.0  \n",
       "X5          41.00       79.0  \n",
       "X6           0.00        8.0  \n",
       "X7           0.00        8.0  \n",
       "X8           0.00        8.0  \n",
       "X9           0.00        8.0  \n",
       "X10          0.00        8.0  \n",
       "X11          0.00        8.0  \n",
       "X12      65073.25   964511.0  \n",
       "X13      61886.75   983931.0  \n",
       "X14      58792.75  1664089.0  \n",
       "X15      51549.00   891586.0  \n",
       "Y            0.00        1.0  "
      ]
     },
     "execution_count": 78,
     "metadata": {},
     "output_type": "execute_result"
    }
   ],
   "source": [
    "print(dataset.shape)\n",
    "dataset.describe().T"
   ]
  },
  {
   "cell_type": "code",
   "execution_count": 79,
   "metadata": {},
   "outputs": [
    {
     "name": "stdout",
     "output_type": "stream",
     "text": [
      "Ref.No    0\n",
      "X1        0\n",
      "X2        0\n",
      "X3        0\n",
      "X4        0\n",
      "X5        0\n",
      "X6        0\n",
      "X7        0\n",
      "X8        0\n",
      "X9        0\n",
      "X10       0\n",
      "X11       0\n",
      "X12       0\n",
      "X13       0\n",
      "X14       0\n",
      "X15       0\n",
      "Y         0\n",
      "dtype: int64\n",
      "Ref.No    int64\n",
      "X1        int64\n",
      "X2        int64\n",
      "X3        int64\n",
      "X4        int64\n",
      "X5        int64\n",
      "X6        int64\n",
      "X7        int64\n",
      "X8        int64\n",
      "X9        int64\n",
      "X10       int64\n",
      "X11       int64\n",
      "X12       int64\n",
      "X13       int64\n",
      "X14       int64\n",
      "X15       int64\n",
      "Y         int64\n",
      "dtype: object\n"
     ]
    }
   ],
   "source": [
    "print(dataset.isnull().sum(axis=0))\n",
    "print(dataset.dtypes)"
   ]
  },
  {
   "cell_type": "code",
   "execution_count": 80,
   "metadata": {},
   "outputs": [],
   "source": [
    "dataset = dataset.drop('Ref.No',axis=1)"
   ]
  },
  {
   "cell_type": "code",
   "execution_count": 81,
   "metadata": {},
   "outputs": [
    {
     "name": "stdout",
     "output_type": "stream",
     "text": [
      "           X1        X2        X3        X4        X5        X6        X7  \\\n",
      "X1   1.000000  0.034904 -0.227472 -0.105628  0.149632 -0.266460 -0.294104   \n",
      "X2   0.034904  1.000000  0.016744 -0.036408 -0.098736 -0.061844 -0.071631   \n",
      "X3  -0.227472  0.016744  1.000000 -0.139503  0.166523  0.108855  0.126305   \n",
      "X4  -0.105628 -0.036408 -0.139503  1.000000 -0.412459  0.013404  0.020276   \n",
      "X5   0.149632 -0.098736  0.166523 -0.412459  1.000000 -0.037337 -0.053494   \n",
      "X6  -0.266460 -0.061844  0.108855  0.013404 -0.037337  1.000000  0.669413   \n",
      "X7  -0.294104 -0.071631  0.126305  0.020276 -0.053494  0.669413  1.000000   \n",
      "X8  -0.286128 -0.071199  0.116478  0.028201 -0.056584  0.571103  0.767796   \n",
      "X9  -0.263034 -0.059212  0.112588  0.027403 -0.050888  0.534592  0.663134   \n",
      "X10 -0.245133 -0.058034  0.099792  0.032633 -0.054219  0.500460  0.617374   \n",
      "X11 -0.232363 -0.045643  0.084184  0.032148 -0.045676  0.467200  0.570667   \n",
      "X12  0.287298 -0.027344  0.023668 -0.026286  0.060516  0.179432  0.230106   \n",
      "X13  0.280959 -0.026317  0.019134 -0.027530  0.059346  0.183270  0.231346   \n",
      "X14  0.286805 -0.019749  0.013186 -0.031129  0.058504  0.173663  0.219842   \n",
      "X15  0.296746 -0.013164 -0.002114 -0.028932  0.056399  0.174485  0.220149   \n",
      "Y   -0.150885 -0.038559  0.023008 -0.031020  0.008051  0.319002  0.258833   \n",
      "\n",
      "           X8        X9       X10       X11       X12       X13       X14  \\\n",
      "X1  -0.286128 -0.263034 -0.245133 -0.232363  0.287298  0.280959  0.286805   \n",
      "X2  -0.071199 -0.059212 -0.058034 -0.045643 -0.027344 -0.026317 -0.019749   \n",
      "X3   0.116478  0.112588  0.099792  0.084184  0.023668  0.019134  0.013186   \n",
      "X4   0.028201  0.027403  0.032633  0.032148 -0.026286 -0.027530 -0.031129   \n",
      "X5  -0.056584 -0.050888 -0.054219 -0.045676  0.060516  0.059346  0.058504   \n",
      "X6   0.571103  0.534592  0.500460  0.467200  0.179432  0.183270  0.173663   \n",
      "X7   0.767796  0.663134  0.617374  0.570667  0.230106  0.231346  0.219842   \n",
      "X8   1.000000  0.780360  0.688274  0.633191  0.201378  0.230594  0.222667   \n",
      "X9   0.780360  1.000000  0.822976  0.717091  0.198936  0.222983  0.243136   \n",
      "X10  0.688274  0.822976  1.000000  0.810859  0.202138  0.222662  0.240923   \n",
      "X11  0.633191  0.717091  0.810859  1.000000  0.206658  0.226430  0.241995   \n",
      "X12  0.201378  0.198936  0.202138  0.206658  1.000000  0.952325  0.892135   \n",
      "X13  0.230594  0.222983  0.222662  0.226430  0.952325  1.000000  0.926508   \n",
      "X14  0.222667  0.243136  0.240923  0.241995  0.892135  0.926508  1.000000   \n",
      "X15  0.223395  0.246311  0.271500  0.267585  0.859211  0.890610  0.923522   \n",
      "Y    0.233879  0.214572  0.205319  0.184488 -0.024329 -0.016689 -0.015157   \n",
      "\n",
      "          X15         Y  \n",
      "X1   0.296746 -0.150885  \n",
      "X2  -0.013164 -0.038559  \n",
      "X3  -0.002114  0.023008  \n",
      "X4  -0.028932 -0.031020  \n",
      "X5   0.056399  0.008051  \n",
      "X6   0.174485  0.319002  \n",
      "X7   0.220149  0.258833  \n",
      "X8   0.223395  0.233879  \n",
      "X9   0.246311  0.214572  \n",
      "X10  0.271500  0.205319  \n",
      "X11  0.267585  0.184488  \n",
      "X12  0.859211 -0.024329  \n",
      "X13  0.890610 -0.016689  \n",
      "X14  0.923522 -0.015157  \n",
      "X15  1.000000 -0.009584  \n",
      "Y   -0.009584  1.000000  \n"
     ]
    }
   ],
   "source": [
    "print(dataset.corr(method='pearson'))"
   ]
  },
  {
   "cell_type": "code",
   "execution_count": 82,
   "metadata": {},
   "outputs": [
    {
     "data": {
      "text/plain": [
       "<matplotlib.axes._subplots.AxesSubplot at 0x1fa986976a0>"
      ]
     },
     "execution_count": 82,
     "metadata": {},
     "output_type": "execute_result"
    },
    {
     "data": {
      "image/png": "[encoded data removed]",
      "text/plain": [
       "<Figure size 864x648 with 2 Axes>"
      ]
     },
     "metadata": {},
     "output_type": "display_data"
    }
   ],
   "source": [
    "corr = dataset.corr()\n",
    "import matplotlib.pyplot as plt\n",
    "plt.figure(figsize=(12,9))\n",
    "sn.heatmap(corr,annot=True, )"
   ]
  },
  {
   "cell_type": "code",
   "execution_count": 83,
   "metadata": {},
   "outputs": [
    {
     "data": {
      "image/png": "[encoded data removed]",
      "text/plain": [
       "<Figure size 1008x1008 with 30 Axes>"
      ]
     },
     "metadata": {},
     "output_type": "display_data"
    }
   ],
   "source": [
    "# box and whisker plots\n",
    "dataset.plot(kind='box', subplots=True, layout=(5,6), fontsize=8, figsize=(14,14))\n",
    "pyplot.show()"
   ]
  },
  {
   "cell_type": "code",
   "execution_count": 84,
   "metadata": {},
   "outputs": [
    {
     "data": {
      "text/html": [
       "<div>\n",
       "<style scoped>\n",
       "    .dataframe tbody tr th:only-of-type {\n",
       "        vertical-align: middle;\n",
       "    }\n",
       "\n",
       "    .dataframe tbody tr th {\n",
       "        vertical-align: top;\n",
       "    }\n",
       "\n",
       "    .dataframe thead th {\n",
       "        text-align: right;\n",
       "    }\n",
       "</style>\n",
       "<table border=\"1\" class=\"dataframe\">\n",
       "  <thead>\n",
       "    <tr style=\"text-align: right;\">\n",
       "      <th></th>\n",
       "      <th>X1</th>\n",
       "      <th>X2</th>\n",
       "      <th>X3</th>\n",
       "      <th>X4</th>\n",
       "      <th>X5</th>\n",
       "      <th>X6</th>\n",
       "      <th>X7</th>\n",
       "      <th>X8</th>\n",
       "      <th>X9</th>\n",
       "      <th>X10</th>\n",
       "      <th>X11</th>\n",
       "      <th>X12</th>\n",
       "      <th>X13</th>\n",
       "      <th>X14</th>\n",
       "      <th>X15</th>\n",
       "    </tr>\n",
       "  </thead>\n",
       "  <tbody>\n",
       "    <tr>\n",
       "      <th>0</th>\n",
       "      <td>320000</td>\n",
       "      <td>2</td>\n",
       "      <td>1</td>\n",
       "      <td>2</td>\n",
       "      <td>27</td>\n",
       "      <td>1</td>\n",
       "      <td>2</td>\n",
       "      <td>2</td>\n",
       "      <td>2</td>\n",
       "      <td>2</td>\n",
       "      <td>2</td>\n",
       "      <td>43243</td>\n",
       "      <td>42537</td>\n",
       "      <td>41370</td>\n",
       "      <td>40694</td>\n",
       "    </tr>\n",
       "    <tr>\n",
       "      <th>1</th>\n",
       "      <td>470000</td>\n",
       "      <td>1</td>\n",
       "      <td>2</td>\n",
       "      <td>1</td>\n",
       "      <td>41</td>\n",
       "      <td>-2</td>\n",
       "      <td>-2</td>\n",
       "      <td>-2</td>\n",
       "      <td>-2</td>\n",
       "      <td>-2</td>\n",
       "      <td>-1</td>\n",
       "      <td>13780</td>\n",
       "      <td>12242</td>\n",
       "      <td>32463</td>\n",
       "      <td>20621</td>\n",
       "    </tr>\n",
       "    <tr>\n",
       "      <th>2</th>\n",
       "      <td>20000</td>\n",
       "      <td>1</td>\n",
       "      <td>2</td>\n",
       "      <td>2</td>\n",
       "      <td>25</td>\n",
       "      <td>1</td>\n",
       "      <td>2</td>\n",
       "      <td>0</td>\n",
       "      <td>0</td>\n",
       "      <td>0</td>\n",
       "      <td>0</td>\n",
       "      <td>20415</td>\n",
       "      <td>18266</td>\n",
       "      <td>18921</td>\n",
       "      <td>19297</td>\n",
       "    </tr>\n",
       "    <tr>\n",
       "      <th>3</th>\n",
       "      <td>80000</td>\n",
       "      <td>1</td>\n",
       "      <td>3</td>\n",
       "      <td>1</td>\n",
       "      <td>41</td>\n",
       "      <td>0</td>\n",
       "      <td>0</td>\n",
       "      <td>0</td>\n",
       "      <td>0</td>\n",
       "      <td>0</td>\n",
       "      <td>-1</td>\n",
       "      <td>76015</td>\n",
       "      <td>77582</td>\n",
       "      <td>60311</td>\n",
       "      <td>62471</td>\n",
       "    </tr>\n",
       "    <tr>\n",
       "      <th>4</th>\n",
       "      <td>30000</td>\n",
       "      <td>1</td>\n",
       "      <td>1</td>\n",
       "      <td>2</td>\n",
       "      <td>30</td>\n",
       "      <td>1</td>\n",
       "      <td>-2</td>\n",
       "      <td>-2</td>\n",
       "      <td>-2</td>\n",
       "      <td>-2</td>\n",
       "      <td>-2</td>\n",
       "      <td>0</td>\n",
       "      <td>0</td>\n",
       "      <td>0</td>\n",
       "      <td>0</td>\n",
       "    </tr>\n",
       "  </tbody>\n",
       "</table>\n",
       "</div>"
      ],
      "text/plain": [
       "       X1  X2  X3  X4  X5  X6  X7  X8  X9  X10  X11    X12    X13    X14  \\\n",
       "0  320000   2   1   2  27   1   2   2   2    2    2  43243  42537  41370   \n",
       "1  470000   1   2   1  41  -2  -2  -2  -2   -2   -1  13780  12242  32463   \n",
       "2   20000   1   2   2  25   1   2   0   0    0    0  20415  18266  18921   \n",
       "3   80000   1   3   1  41   0   0   0   0    0   -1  76015  77582  60311   \n",
       "4   30000   1   1   2  30   1  -2  -2  -2   -2   -2      0      0      0   \n",
       "\n",
       "     X15  \n",
       "0  40694  \n",
       "1  20621  \n",
       "2  19297  \n",
       "3  62471  \n",
       "4      0  "
      ]
     },
     "execution_count": 84,
     "metadata": {},
     "output_type": "execute_result"
    }
   ],
   "source": [
    "X = dataset.drop('Y', axis=1)\n",
    "Y = dataset[['Y']]\n",
    "\n",
    "X.head()"
   ]
  },
  {
   "cell_type": "code",
   "execution_count": 109,
   "metadata": {},
   "outputs": [
    {
     "data": {
      "text/html": [
       "<div>\n",
       "<style scoped>\n",
       "    .dataframe tbody tr th:only-of-type {\n",
       "        vertical-align: middle;\n",
       "    }\n",
       "\n",
       "    .dataframe tbody tr th {\n",
       "        vertical-align: top;\n",
       "    }\n",
       "\n",
       "    .dataframe thead th {\n",
       "        text-align: right;\n",
       "    }\n",
       "</style>\n",
       "<table border=\"1\" class=\"dataframe\">\n",
       "  <thead>\n",
       "    <tr style=\"text-align: right;\">\n",
       "      <th></th>\n",
       "      <th>Y</th>\n",
       "    </tr>\n",
       "  </thead>\n",
       "  <tbody>\n",
       "    <tr>\n",
       "      <th>0</th>\n",
       "      <td>1</td>\n",
       "    </tr>\n",
       "    <tr>\n",
       "      <th>1</th>\n",
       "      <td>0</td>\n",
       "    </tr>\n",
       "    <tr>\n",
       "      <th>2</th>\n",
       "      <td>0</td>\n",
       "    </tr>\n",
       "    <tr>\n",
       "      <th>3</th>\n",
       "      <td>1</td>\n",
       "    </tr>\n",
       "    <tr>\n",
       "      <th>4</th>\n",
       "      <td>1</td>\n",
       "    </tr>\n",
       "  </tbody>\n",
       "</table>\n",
       "</div>"
      ],
      "text/plain": [
       "   Y\n",
       "0  1\n",
       "1  0\n",
       "2  0\n",
       "3  1\n",
       "4  1"
      ]
     },
     "execution_count": 109,
     "metadata": {},
     "output_type": "execute_result"
    }
   ],
   "source": [
    "Y.head()"
   ]
  },
  {
   "cell_type": "code",
   "execution_count": 85,
   "metadata": {},
   "outputs": [
    {
     "name": "stdout",
     "output_type": "stream",
     "text": [
      "Covariance Matrix \n",
      "%s [[ 1.0000463   0.03490539 -0.22748245 -0.10563325  0.14963852 -0.26647283\n",
      "  -0.29411805 -0.28614172 -0.26304579 -0.24514436 -0.23237351  0.28731081\n",
      "   0.28097173  0.28681789  0.2967601 ]\n",
      " [ 0.03490539  1.0000463   0.01674513 -0.03641015 -0.09874013 -0.0618468\n",
      "  -0.07163432 -0.07120232 -0.05921446 -0.05803664 -0.04564474 -0.02734517\n",
      "  -0.0263179  -0.01975033 -0.01316511]\n",
      " [-0.22748245  0.01674513  1.0000463  -0.13950938  0.16653121  0.10886009\n",
      "   0.12631125  0.1164837   0.11259356  0.09979683  0.0841875   0.02366889\n",
      "   0.01913514  0.0131864  -0.00211444]\n",
      " [-0.10563325 -0.03641015 -0.13950938  1.0000463  -0.41247828  0.01340488\n",
      "   0.02027723  0.02820249  0.02740421  0.03263404  0.03214906 -0.0262868\n",
      "  -0.02753124 -0.03113072 -0.02893304]\n",
      " [ 0.14963852 -0.09874013  0.16653121 -0.41247828  1.0000463  -0.03733858\n",
      "  -0.05349654 -0.05658702 -0.05089014 -0.05422179 -0.045678    0.06051871\n",
      "   0.05934839  0.05850689  0.0564017 ]\n",
      " [-0.26647283 -0.0618468   0.10886009  0.01340488 -0.03733858  1.0000463\n",
      "   0.66944415  0.57112993  0.53461652  0.50048313  0.46722156  0.17944025\n",
      "   0.18327831  0.17367122  0.17449312]\n",
      " [-0.29411805 -0.07163432  0.12631125  0.02027723 -0.05349654  0.66944415\n",
      "   1.0000463   0.7678311   0.66316427  0.61740288  0.5706931   0.23011643\n",
      "   0.23135688  0.21985256  0.22015938]\n",
      " [-0.28614172 -0.07120232  0.1164837   0.02820249 -0.05658702  0.57112993\n",
      "   0.7678311   1.0000463   0.78039655  0.68830559  0.63322077  0.20138712\n",
      "   0.23060454  0.22267773  0.2234056 ]\n",
      " [-0.26304579 -0.05921446  0.11259356  0.02740421 -0.05089014  0.53461652\n",
      "   0.66316427  0.78039655  1.0000463   0.82301436  0.71712399  0.19894479\n",
      "   0.22299348  0.24314747  0.24632287]\n",
      " [-0.24514436 -0.05803664  0.09979683  0.03263404 -0.05422179  0.50048313\n",
      "   0.61740288  0.68830559  0.82301436  1.0000463   0.81089635  0.20214723\n",
      "   0.22267193  0.24093436  0.27151292]\n",
      " [-0.23237351 -0.04564474  0.0841875   0.03214906 -0.045678    0.46722156\n",
      "   0.5706931   0.63322077  0.71712399  0.81089635  1.0000463   0.20666772\n",
      "   0.22644093  0.24200607  0.26759783]\n",
      " [ 0.28731081 -0.02734517  0.02366889 -0.0262868   0.06051871  0.17944025\n",
      "   0.23011643  0.20138712  0.19894479  0.20214723  0.20666772  1.0000463\n",
      "   0.95236882  0.89217592  0.85925121]\n",
      " [ 0.28097173 -0.0263179   0.01913514 -0.02753124  0.05934839  0.18327831\n",
      "   0.23135688  0.23060454  0.22299348  0.22267193  0.22644093  0.95236882\n",
      "   1.0000463   0.92655086  0.89065111]\n",
      " [ 0.28681789 -0.01975033  0.0131864  -0.03113072  0.05850689  0.17367122\n",
      "   0.21985256  0.22267773  0.24314747  0.24093436  0.24200607  0.89217592\n",
      "   0.92655086  1.0000463   0.92356467]\n",
      " [ 0.2967601  -0.01316511 -0.00211444 -0.02893304  0.0564017   0.17449312\n",
      "   0.22015938  0.2234056   0.24632287  0.27151292  0.26759783  0.85925121\n",
      "   0.89065111  0.92356467  1.0000463 ]]\n"
     ]
    }
   ],
   "source": [
    "from sklearn.preprocessing import StandardScaler\n",
    "\n",
    "sc = StandardScaler()\n",
    "X_std =  sc.fit_transform(X)          \n",
    "cov_matrix = np.cov(X_std.T)\n",
    "print('Covariance Matrix \\n%s', cov_matrix)"
   ]
  },
  {
   "cell_type": "code",
   "execution_count": 86,
   "metadata": {},
   "outputs": [
    {
     "name": "stdout",
     "output_type": "stream",
     "text": [
      "Eigen Values:\n"
     ]
    },
    {
     "data": {
      "text/html": [
       "<div>\n",
       "<style scoped>\n",
       "    .dataframe tbody tr th:only-of-type {\n",
       "        vertical-align: middle;\n",
       "    }\n",
       "\n",
       "    .dataframe tbody tr th {\n",
       "        vertical-align: top;\n",
       "    }\n",
       "\n",
       "    .dataframe thead th {\n",
       "        text-align: right;\n",
       "    }\n",
       "</style>\n",
       "<table border=\"1\" class=\"dataframe\">\n",
       "  <thead>\n",
       "    <tr style=\"text-align: right;\">\n",
       "      <th></th>\n",
       "      <th>0</th>\n",
       "      <th>1</th>\n",
       "      <th>2</th>\n",
       "      <th>3</th>\n",
       "      <th>4</th>\n",
       "      <th>5</th>\n",
       "      <th>6</th>\n",
       "      <th>7</th>\n",
       "      <th>8</th>\n",
       "      <th>9</th>\n",
       "      <th>10</th>\n",
       "      <th>11</th>\n",
       "      <th>12</th>\n",
       "      <th>13</th>\n",
       "      <th>14</th>\n",
       "    </tr>\n",
       "  </thead>\n",
       "  <tbody>\n",
       "    <tr>\n",
       "      <th>0</th>\n",
       "      <td>5.150173</td>\n",
       "      <td>3.260515</td>\n",
       "      <td>1.499488</td>\n",
       "      <td>1.032058</td>\n",
       "      <td>0.96793</td>\n",
       "      <td>0.713415</td>\n",
       "      <td>0.576295</td>\n",
       "      <td>0.532553</td>\n",
       "      <td>0.406252</td>\n",
       "      <td>0.264781</td>\n",
       "      <td>0.040524</td>\n",
       "      <td>0.069659</td>\n",
       "      <td>0.194499</td>\n",
       "      <td>0.156785</td>\n",
       "      <td>0.135769</td>\n",
       "    </tr>\n",
       "  </tbody>\n",
       "</table>\n",
       "</div>"
      ],
      "text/plain": [
       "         0         1         2         3        4         5         6   \\\n",
       "0  5.150173  3.260515  1.499488  1.032058  0.96793  0.713415  0.576295   \n",
       "\n",
       "         7         8         9         10        11        12        13  \\\n",
       "0  0.532553  0.406252  0.264781  0.040524  0.069659  0.194499  0.156785   \n",
       "\n",
       "         14  \n",
       "0  0.135769  "
      ]
     },
     "execution_count": 86,
     "metadata": {},
     "output_type": "execute_result"
    }
   ],
   "source": [
    "eig_vals, eig_vecs = np.linalg.eig(cov_matrix)\n",
    "#print('Eigen Vectors \\n%s', eig_vecs)\n",
    "#print('\\n Eigen Values \\n%s', eig_vals)\n",
    "\n",
    "print(\"Eigen Values:\")\n",
    "pd.DataFrame(eig_vals).transpose()"
   ]
  },
  {
   "cell_type": "code",
   "execution_count": 87,
   "metadata": {},
   "outputs": [
    {
     "name": "stdout",
     "output_type": "stream",
     "text": [
      "Eigen Values:\n"
     ]
    },
    {
     "data": {
      "text/html": [
       "<div>\n",
       "<style scoped>\n",
       "    .dataframe tbody tr th:only-of-type {\n",
       "        vertical-align: middle;\n",
       "    }\n",
       "\n",
       "    .dataframe tbody tr th {\n",
       "        vertical-align: top;\n",
       "    }\n",
       "\n",
       "    .dataframe thead th {\n",
       "        text-align: right;\n",
       "    }\n",
       "</style>\n",
       "<table border=\"1\" class=\"dataframe\">\n",
       "  <thead>\n",
       "    <tr style=\"text-align: right;\">\n",
       "      <th></th>\n",
       "      <th>0</th>\n",
       "      <th>1</th>\n",
       "      <th>2</th>\n",
       "      <th>3</th>\n",
       "      <th>4</th>\n",
       "      <th>5</th>\n",
       "      <th>6</th>\n",
       "      <th>7</th>\n",
       "      <th>8</th>\n",
       "      <th>9</th>\n",
       "      <th>10</th>\n",
       "      <th>11</th>\n",
       "      <th>12</th>\n",
       "      <th>13</th>\n",
       "      <th>14</th>\n",
       "    </tr>\n",
       "  </thead>\n",
       "  <tbody>\n",
       "    <tr>\n",
       "      <th>0</th>\n",
       "      <td>34.332895</td>\n",
       "      <td>56.068656</td>\n",
       "      <td>66.064777</td>\n",
       "      <td>72.944847</td>\n",
       "      <td>79.397415</td>\n",
       "      <td>84.153292</td>\n",
       "      <td>87.995083</td>\n",
       "      <td>91.54527</td>\n",
       "      <td>94.253489</td>\n",
       "      <td>96.018613</td>\n",
       "      <td>97.315212</td>\n",
       "      <td>98.360396</td>\n",
       "      <td>99.265482</td>\n",
       "      <td>99.729853</td>\n",
       "      <td>100.0</td>\n",
       "    </tr>\n",
       "  </tbody>\n",
       "</table>\n",
       "</div>"
      ],
      "text/plain": [
       "          0          1          2          3          4          5   \\\n",
       "0  34.332895  56.068656  66.064777  72.944847  79.397415  84.153292   \n",
       "\n",
       "          6         7          8          9          10         11         12  \\\n",
       "0  87.995083  91.54527  94.253489  96.018613  97.315212  98.360396  99.265482   \n",
       "\n",
       "          13     14  \n",
       "0  99.729853  100.0  "
      ]
     },
     "execution_count": 87,
     "metadata": {},
     "output_type": "execute_result"
    }
   ],
   "source": [
    "tot = sum(eig_vals)\n",
    "var_exp = [( i /tot ) * 100 for i in sorted(eig_vals, reverse=True)]\n",
    "cum_var_exp = np.cumsum(var_exp)\n",
    "#print(\"Cumulative Variance Explained\", cum_var_exp)\n",
    "print(\"Eigen Values:\")\n",
    "pd.DataFrame(cum_var_exp).transpose()"
   ]
  },
  {
   "cell_type": "code",
   "execution_count": 88,
   "metadata": {},
   "outputs": [
    {
     "data": {
      "image/png": "[encoded data removed]",
      "text/plain": [
       "<Figure size 720x360 with 1 Axes>"
      ]
     },
     "metadata": {},
     "output_type": "display_data"
    }
   ],
   "source": [
    "# Ploting \n",
    "plt.figure(figsize=(10 , 5))\n",
    "plt.bar(range(1, eig_vals.size + 1), var_exp, alpha = 0.5, align = 'center', label = 'Individual explained variance')\n",
    "plt.step(range(1, eig_vals.size + 1), cum_var_exp, where='mid', label = 'Cumulative explained variance')\n",
    "plt.ylabel('Explained Variance Ratio')\n",
    "plt.xlabel('Principal Components')\n",
    "plt.legend(loc = 'best')\n",
    "plt.tight_layout()\n",
    "plt.show()"
   ]
  },
  {
   "cell_type": "code",
   "execution_count": 89,
   "metadata": {},
   "outputs": [],
   "source": [
    "X_train, X_test, y_train, y_test = train_test_split(X, Y, test_size=0.3 , random_state=1)\n",
    "X_train_std = sc.fit_transform(X_train)\n",
    "X_test_std = sc.fit_transform(X_test)"
   ]
  },
  {
   "cell_type": "code",
   "execution_count": 110,
   "metadata": {},
   "outputs": [],
   "source": [
    "from sklearn.decomposition import PCA\n",
    "X_train_reduced = PCA(n_components=7).fit_transform(X_train_std)\n",
    "X_test_reduced = PCA(n_components=7).fit_transform(X_test_std)"
   ]
  },
  {
   "cell_type": "code",
   "execution_count": 97,
   "metadata": {},
   "outputs": [
    {
     "data": {
      "text/plain": [
       "KNeighborsClassifier(algorithm='auto', leaf_size=30, metric='euclidean',\n",
       "           metric_params=None, n_jobs=1, n_neighbors=21, p=2,\n",
       "           weights='uniform')"
      ]
     },
     "execution_count": 97,
     "metadata": {},
     "output_type": "execute_result"
    }
   ],
   "source": [
    "NNH = KNeighborsClassifier(n_neighbors= 21 , weights = 'uniform', metric='euclidean') \n",
    "NNH.fit(X_train_reduced, y_train)"
   ]
  },
  {
   "cell_type": "code",
   "execution_count": 99,
   "metadata": {},
   "outputs": [
    {
     "name": "stdout",
     "output_type": "stream",
     "text": [
      "Total Accuracy :  0.8\n"
     ]
    }
   ],
   "source": [
    "predicted_labels = NNH.predict(X_test_reduced)\n",
    "from sklearn import metrics\n",
    "print( 'Total Accuracy : ',np.round( metrics.accuracy_score( y_test, predicted_labels ), 2 ) )"
   ]
  },
  {
   "cell_type": "code",
   "execution_count": 100,
   "metadata": {},
   "outputs": [
    {
     "data": {
      "text/plain": [
       "0.8145502645502646"
      ]
     },
     "execution_count": 100,
     "metadata": {},
     "output_type": "execute_result"
    }
   ],
   "source": [
    "NNH.score(X_train_reduced,y_train)"
   ]
  },
  {
   "cell_type": "code",
   "execution_count": 101,
   "metadata": {},
   "outputs": [
    {
     "data": {
      "text/plain": [
       "0.7993827160493827"
      ]
     },
     "execution_count": 101,
     "metadata": {},
     "output_type": "execute_result"
    }
   ],
   "source": [
    "NNH.score(X_test_reduced,y_test)"
   ]
  },
  {
   "cell_type": "code",
   "execution_count": 102,
   "metadata": {},
   "outputs": [
    {
     "data": {
      "text/plain": [
       "GridSearchCV(cv=10, error_score='raise',\n",
       "       estimator=KNeighborsClassifier(algorithm='auto', leaf_size=30, metric='minkowski',\n",
       "           metric_params=None, n_jobs=1, n_neighbors=5, p=2,\n",
       "           weights='uniform'),\n",
       "       fit_params=None, iid=True, n_jobs=1,\n",
       "       param_grid={'n_neighbors': [21, 20, 19, 18, 17, 16, 15, 14, 13, 12, 11, 10, 9, 8, 7, 6, 5, 4, 3, 2, 1]},\n",
       "       pre_dispatch='2*n_jobs', refit=True, return_train_score='warn',\n",
       "       scoring=None, verbose=0)"
      ]
     },
     "execution_count": 102,
     "metadata": {},
     "output_type": "execute_result"
    }
   ],
   "source": [
    "from sklearn.metrics import accuracy_score\n",
    "param_grid = {'n_neighbors': list(range(21,0,-1))}\n",
    "from sklearn.model_selection import GridSearchCV\n",
    "knn=KNeighborsClassifier()\n",
    "gs = GridSearchCV(knn,param_grid,cv=10)\n",
    "gs.fit(X_train_reduced, y_train)"
   ]
  },
  {
   "cell_type": "code",
   "execution_count": 103,
   "metadata": {},
   "outputs": [
    {
     "data": {
      "text/plain": [
       "{'n_neighbors': 17}"
      ]
     },
     "execution_count": 103,
     "metadata": {},
     "output_type": "execute_result"
    }
   ],
   "source": [
    "gs.best_params_"
   ]
  },
  {
   "cell_type": "code",
   "execution_count": 121,
   "metadata": {},
   "outputs": [
    {
     "data": {
      "text/plain": [
       "KNeighborsClassifier(algorithm='auto', leaf_size=30, metric='euclidean',\n",
       "           metric_params=None, n_jobs=1, n_neighbors=17, p=2,\n",
       "           weights='uniform')"
      ]
     },
     "execution_count": 121,
     "metadata": {},
     "output_type": "execute_result"
    }
   ],
   "source": [
    "NNH = KNeighborsClassifier(n_neighbors= 17 , weights = 'uniform', metric='euclidean') \n",
    "NNH.fit(X_train_reduced, y_train)"
   ]
  },
  {
   "cell_type": "code",
   "execution_count": 105,
   "metadata": {},
   "outputs": [
    {
     "name": "stdout",
     "output_type": "stream",
     "text": [
      "Total Accuracy :  0.8\n"
     ]
    }
   ],
   "source": [
    "predicted_labels = NNH.predict(X_test_reduced)\n",
    "from sklearn import metrics\n",
    "print( 'Total Accuracy : ',np.round( metrics.accuracy_score( y_test, predicted_labels ), 2 ) )"
   ]
  },
  {
   "cell_type": "code",
   "execution_count": 106,
   "metadata": {},
   "outputs": [
    {
     "data": {
      "text/plain": [
       "0.8148148148148148"
      ]
     },
     "execution_count": 106,
     "metadata": {},
     "output_type": "execute_result"
    }
   ],
   "source": [
    "NNH.score(X_train_reduced,y_train)"
   ]
  },
  {
   "cell_type": "code",
   "execution_count": 111,
   "metadata": {},
   "outputs": [
    {
     "data": {
      "text/plain": [
       "0.8001543209876543"
      ]
     },
     "execution_count": 111,
     "metadata": {},
     "output_type": "execute_result"
    }
   ],
   "source": [
    "NNH.score(X_test_reduced,y_test)"
   ]
  },
  {
   "cell_type": "code",
   "execution_count": 145,
   "metadata": {},
   "outputs": [],
   "source": [
    "from sklearn.decomposition import PCA\n",
    "X_train_reduced = PCA(n_components=10).fit_transform(X_train_std)\n",
    "X_test_reduced = PCA(n_components=10).fit_transform(X_test_std)"
   ]
  },
  {
   "cell_type": "code",
   "execution_count": 146,
   "metadata": {},
   "outputs": [
    {
     "name": "stdout",
     "output_type": "stream",
     "text": [
      "AB: 0.806746 (0.007847)\n",
      "RF: 0.793651 (0.006574)\n"
     ]
    }
   ],
   "source": [
    "from sklearn.ensemble import RandomForestClassifier\n",
    "from sklearn.ensemble import AdaBoostClassifier\n",
    "\n",
    "# ensembles\n",
    "ensembles = []\n",
    "ensembles.append(('AB', AdaBoostClassifier()))\n",
    "ensembles.append(('RF', RandomForestClassifier()))\n",
    "\n",
    "results = []\n",
    "names = []\n",
    "for name, model in ensembles: \n",
    "    kfold = KFold(n_splits=10, random_state=7) \n",
    "    cv_results = cross_val_score(model, X_train_reduced, y_train, cv=10, scoring='accuracy')\n",
    "    results.append(cv_results)\n",
    "    names.append(name)\n",
    "    msg = \"%s: %f (%f)\" % (name, cv_results.mean(), cv_results.std())\n",
    "    print(msg)"
   ]
  },
  {
   "cell_type": "code",
   "execution_count": 147,
   "metadata": {},
   "outputs": [
    {
     "name": "stdout",
     "output_type": "stream",
     "text": [
      "AB: 0.803084 (0.010634)\n",
      "RF: 0.789968 (0.005380)\n"
     ]
    }
   ],
   "source": [
    "results = []\n",
    "names = []\n",
    "for name, model in ensembles: \n",
    "    kfold = KFold(n_splits=10, random_state=7) \n",
    "    cv_results = cross_val_score(model, X_test_reduced, y_test, cv=10, scoring='accuracy')\n",
    "    results.append(cv_results)\n",
    "    names.append(name)\n",
    "    msg = \"%s: %f (%f)\" % (name, cv_results.mean(), cv_results.std())\n",
    "    print(msg)"
   ]
  },
  {
   "cell_type": "code",
   "execution_count": 149,
   "metadata": {},
   "outputs": [
    {
     "data": {
      "text/plain": [
       "AdaBoostClassifier(algorithm='SAMME.R', base_estimator=None,\n",
       "          learning_rate=1.0, n_estimators=50, random_state=None)"
      ]
     },
     "execution_count": 149,
     "metadata": {},
     "output_type": "execute_result"
    }
   ],
   "source": [
    "model = AdaBoostClassifier()\n",
    "model.fit(X_train_reduced, y_train)"
   ]
  },
  {
   "cell_type": "code",
   "execution_count": 152,
   "metadata": {},
   "outputs": [
    {
     "data": {
      "text/plain": [
       "1.0"
      ]
     },
     "execution_count": 152,
     "metadata": {},
     "output_type": "execute_result"
    }
   ],
   "source": [
    "predict = model.predict(X_test_reduced)\n",
    "model.score(X_test_reduced,predict)"
   ]
  },
  {
   "cell_type": "code",
   "execution_count": 153,
   "metadata": {},
   "outputs": [
    {
     "data": {
      "text/html": [
       "<div>\n",
       "<style scoped>\n",
       "    .dataframe tbody tr th:only-of-type {\n",
       "        vertical-align: middle;\n",
       "    }\n",
       "\n",
       "    .dataframe tbody tr th {\n",
       "        vertical-align: top;\n",
       "    }\n",
       "\n",
       "    .dataframe thead th {\n",
       "        text-align: right;\n",
       "    }\n",
       "</style>\n",
       "<table border=\"1\" class=\"dataframe\">\n",
       "  <thead>\n",
       "    <tr style=\"text-align: right;\">\n",
       "      <th></th>\n",
       "      <th>Ref.No</th>\n",
       "      <th>X1</th>\n",
       "      <th>X2</th>\n",
       "      <th>X3</th>\n",
       "      <th>X4</th>\n",
       "      <th>X5</th>\n",
       "      <th>X6</th>\n",
       "      <th>X7</th>\n",
       "      <th>X8</th>\n",
       "      <th>X9</th>\n",
       "      <th>...</th>\n",
       "      <th>X15</th>\n",
       "      <th>X16</th>\n",
       "      <th>X17</th>\n",
       "      <th>X18</th>\n",
       "      <th>X19</th>\n",
       "      <th>X20</th>\n",
       "      <th>X21</th>\n",
       "      <th>X22</th>\n",
       "      <th>X23</th>\n",
       "      <th>Y</th>\n",
       "    </tr>\n",
       "  </thead>\n",
       "  <tbody>\n",
       "    <tr>\n",
       "      <th>0</th>\n",
       "      <td>17083</td>\n",
       "      <td>50000</td>\n",
       "      <td>2</td>\n",
       "      <td>1</td>\n",
       "      <td>2</td>\n",
       "      <td>25</td>\n",
       "      <td>0</td>\n",
       "      <td>0</td>\n",
       "      <td>0</td>\n",
       "      <td>0</td>\n",
       "      <td>...</td>\n",
       "      <td>38008</td>\n",
       "      <td>31898</td>\n",
       "      <td>20154</td>\n",
       "      <td>2000</td>\n",
       "      <td>5040</td>\n",
       "      <td>8034</td>\n",
       "      <td>3029</td>\n",
       "      <td>5000</td>\n",
       "      <td>49436</td>\n",
       "      <td>NaN</td>\n",
       "    </tr>\n",
       "    <tr>\n",
       "      <th>1</th>\n",
       "      <td>3494</td>\n",
       "      <td>120000</td>\n",
       "      <td>2</td>\n",
       "      <td>2</td>\n",
       "      <td>2</td>\n",
       "      <td>24</td>\n",
       "      <td>0</td>\n",
       "      <td>0</td>\n",
       "      <td>0</td>\n",
       "      <td>0</td>\n",
       "      <td>...</td>\n",
       "      <td>6761</td>\n",
       "      <td>7189</td>\n",
       "      <td>1087</td>\n",
       "      <td>1400</td>\n",
       "      <td>1000</td>\n",
       "      <td>0</td>\n",
       "      <td>1000</td>\n",
       "      <td>1087</td>\n",
       "      <td>801</td>\n",
       "      <td>NaN</td>\n",
       "    </tr>\n",
       "    <tr>\n",
       "      <th>2</th>\n",
       "      <td>21945</td>\n",
       "      <td>120000</td>\n",
       "      <td>2</td>\n",
       "      <td>2</td>\n",
       "      <td>2</td>\n",
       "      <td>27</td>\n",
       "      <td>1</td>\n",
       "      <td>-2</td>\n",
       "      <td>-1</td>\n",
       "      <td>-1</td>\n",
       "      <td>...</td>\n",
       "      <td>0</td>\n",
       "      <td>0</td>\n",
       "      <td>0</td>\n",
       "      <td>0</td>\n",
       "      <td>2382</td>\n",
       "      <td>0</td>\n",
       "      <td>0</td>\n",
       "      <td>0</td>\n",
       "      <td>0</td>\n",
       "      <td>NaN</td>\n",
       "    </tr>\n",
       "    <tr>\n",
       "      <th>3</th>\n",
       "      <td>3499</td>\n",
       "      <td>60000</td>\n",
       "      <td>1</td>\n",
       "      <td>1</td>\n",
       "      <td>2</td>\n",
       "      <td>28</td>\n",
       "      <td>0</td>\n",
       "      <td>-1</td>\n",
       "      <td>0</td>\n",
       "      <td>0</td>\n",
       "      <td>...</td>\n",
       "      <td>9900</td>\n",
       "      <td>310</td>\n",
       "      <td>160</td>\n",
       "      <td>6000</td>\n",
       "      <td>10000</td>\n",
       "      <td>900</td>\n",
       "      <td>310</td>\n",
       "      <td>0</td>\n",
       "      <td>3400</td>\n",
       "      <td>NaN</td>\n",
       "    </tr>\n",
       "    <tr>\n",
       "      <th>4</th>\n",
       "      <td>18973</td>\n",
       "      <td>100000</td>\n",
       "      <td>2</td>\n",
       "      <td>1</td>\n",
       "      <td>2</td>\n",
       "      <td>28</td>\n",
       "      <td>3</td>\n",
       "      <td>2</td>\n",
       "      <td>0</td>\n",
       "      <td>0</td>\n",
       "      <td>...</td>\n",
       "      <td>53407</td>\n",
       "      <td>51951</td>\n",
       "      <td>53195</td>\n",
       "      <td>0</td>\n",
       "      <td>1831</td>\n",
       "      <td>4339</td>\n",
       "      <td>0</td>\n",
       "      <td>2083</td>\n",
       "      <td>1939</td>\n",
       "      <td>NaN</td>\n",
       "    </tr>\n",
       "  </tbody>\n",
       "</table>\n",
       "<p>5 rows × 25 columns</p>\n",
       "</div>"
      ],
      "text/plain": [
       "   Ref.No      X1  X2  X3  X4  X5  X6  X7  X8  X9 ...    X15    X16    X17  \\\n",
       "0   17083   50000   2   1   2  25   0   0   0   0 ...  38008  31898  20154   \n",
       "1    3494  120000   2   2   2  24   0   0   0   0 ...   6761   7189   1087   \n",
       "2   21945  120000   2   2   2  27   1  -2  -1  -1 ...      0      0      0   \n",
       "3    3499   60000   1   1   2  28   0  -1   0   0 ...   9900    310    160   \n",
       "4   18973  100000   2   1   2  28   3   2   0   0 ...  53407  51951  53195   \n",
       "\n",
       "    X18    X19   X20   X21   X22    X23   Y  \n",
       "0  2000   5040  8034  3029  5000  49436 NaN  \n",
       "1  1400   1000     0  1000  1087    801 NaN  \n",
       "2     0   2382     0     0     0      0 NaN  \n",
       "3  6000  10000   900   310     0   3400 NaN  \n",
       "4     0   1831  4339     0  2083   1939 NaN  \n",
       "\n",
       "[5 rows x 25 columns]"
      ]
     },
     "execution_count": 153,
     "metadata": {},
     "output_type": "execute_result"
    }
   ],
   "source": [
    "filename = 'test_credit.csv'\n",
    "dataset_test = read_csv(filename)\n",
    "dataset_test.head()"
   ]
  },
  {
   "cell_type": "code",
   "execution_count": 154,
   "metadata": {},
   "outputs": [],
   "source": [
    "X = dataset_test[['X1','X2','X3','X4','X5','X6','X7','X8','X9','X10','X11','X12','X13','X14','X15']]\n",
    "Y = dataset_test[['Y']]"
   ]
  },
  {
   "cell_type": "code",
   "execution_count": 155,
   "metadata": {},
   "outputs": [
    {
     "name": "stdout",
     "output_type": "stream",
     "text": [
      "Covariance Matrix \n",
      "%s [[ 1.00041701e+00  2.16542734e-02 -2.47429001e-01 -9.49345580e-02\n",
      "   1.12666970e-01 -2.65467599e-01 -3.08343855e-01 -2.80159314e-01\n",
      "  -2.61039477e-01 -2.52780625e-01 -2.40065793e-01  2.75076674e-01\n",
      "   2.73578925e-01  2.88737722e-01  2.94954017e-01]\n",
      " [ 2.16542734e-02  1.00041701e+00  6.85193056e-03 -2.99296012e-02\n",
      "  -1.03145427e-01 -5.19412235e-02 -6.93916294e-02 -5.34860068e-02\n",
      "  -6.68741785e-02 -5.63187300e-02 -3.06671636e-02 -5.40136707e-02\n",
      "  -4.72925854e-02 -4.18602494e-02 -3.59471811e-02]\n",
      " [-2.47429001e-01  6.85193056e-03  1.00041701e+00 -1.58504899e-01\n",
      "   1.81987694e-01  7.90222550e-02  1.29376974e-01  1.03912350e-01\n",
      "   9.52126912e-02  8.45817893e-02  8.88312827e-02 -1.97856849e-02\n",
      "  -3.00234702e-02 -3.32242429e-02 -3.54083862e-02]\n",
      " [-9.49345580e-02 -2.99296012e-02 -1.58504899e-01  1.00041701e+00\n",
      "  -4.13163841e-01  3.41951610e-02  2.34674918e-02  1.88409828e-02\n",
      "   1.85690871e-02  2.68757277e-02  2.04555589e-02 -5.82918087e-03\n",
      "   1.53500767e-04 -5.69138199e-03 -1.61747860e-02]\n",
      " [ 1.12666970e-01 -1.03145427e-01  1.81987694e-01 -4.13163841e-01\n",
      "   1.00041701e+00 -4.97902880e-02 -4.74500127e-02 -3.72397057e-02\n",
      "  -2.47775049e-02 -4.15253538e-02 -4.01215028e-02  1.69315574e-02\n",
      "   1.91666368e-02  2.26624700e-02  2.52779855e-02]\n",
      " [-2.65467599e-01 -5.19412235e-02  7.90222550e-02  3.41951610e-02\n",
      "  -4.97902880e-02  1.00041701e+00  6.46414380e-01  5.52213618e-01\n",
      "   5.27273590e-01  5.15373624e-01  4.72649029e-01  1.98783593e-01\n",
      "   1.96373087e-01  1.87425144e-01  1.88561429e-01]\n",
      " [-3.08343855e-01 -6.93916294e-02  1.29376974e-01  2.34674918e-02\n",
      "  -4.74500127e-02  6.46414380e-01  1.00041701e+00  7.46546111e-01\n",
      "   6.60173993e-01  6.54591709e-01  5.81699593e-01  2.43944563e-01\n",
      "   2.42503852e-01  2.29354918e-01  2.26156941e-01]\n",
      " [-2.80159314e-01 -5.34860068e-02  1.03912350e-01  1.88409828e-02\n",
      "  -3.72397057e-02  5.52213618e-01  7.46546111e-01  1.00041701e+00\n",
      "   7.71374069e-01  6.88260103e-01  6.38392475e-01  2.14416759e-01\n",
      "   2.41552162e-01  2.25882015e-01  2.29621100e-01]\n",
      " [-2.61039477e-01 -6.68741785e-02  9.52126912e-02  1.85690871e-02\n",
      "  -2.47775049e-02  5.27273590e-01  6.60173993e-01  7.71374069e-01\n",
      "   1.00041701e+00  8.21292724e-01  7.30113374e-01  2.15927851e-01\n",
      "   2.34566149e-01  2.60618138e-01  2.63469651e-01]\n",
      " [-2.52780625e-01 -5.63187300e-02  8.45817893e-02  2.68757277e-02\n",
      "  -4.15253538e-02  5.15373624e-01  6.54591709e-01  6.88260103e-01\n",
      "   8.21292724e-01  1.00041701e+00  8.30225676e-01  2.31913371e-01\n",
      "   2.48718784e-01  2.69333962e-01  2.90330285e-01]\n",
      " [-2.40065793e-01 -3.06671636e-02  8.88312827e-02  2.04555589e-02\n",
      "  -4.01215028e-02  4.72649029e-01  5.81699593e-01  6.38392475e-01\n",
      "   7.30113374e-01  8.30225676e-01  1.00041701e+00  2.14250502e-01\n",
      "   2.28904913e-01  2.47258555e-01  2.68822453e-01]\n",
      " [ 2.75076674e-01 -5.40136707e-02 -1.97856849e-02 -5.82918087e-03\n",
      "   1.69315574e-02  1.98783593e-01  2.43944563e-01  2.14416759e-01\n",
      "   2.15927851e-01  2.31913371e-01  2.14250502e-01  1.00041701e+00\n",
      "   9.52977646e-01  8.92059886e-01  8.56192462e-01]\n",
      " [ 2.73578925e-01 -4.72925854e-02 -3.00234702e-02  1.53500767e-04\n",
      "   1.91666368e-02  1.96373087e-01  2.42503852e-01  2.41552162e-01\n",
      "   2.34566149e-01  2.48718784e-01  2.28904913e-01  9.52977646e-01\n",
      "   1.00041701e+00  9.21996905e-01  8.85651969e-01]\n",
      " [ 2.88737722e-01 -4.18602494e-02 -3.32242429e-02 -5.69138199e-03\n",
      "   2.26624700e-02  1.87425144e-01  2.29354918e-01  2.25882015e-01\n",
      "   2.60618138e-01  2.69333962e-01  2.47258555e-01  8.92059886e-01\n",
      "   9.21996905e-01  1.00041701e+00  9.44997782e-01]\n",
      " [ 2.94954017e-01 -3.59471811e-02 -3.54083862e-02 -1.61747860e-02\n",
      "   2.52779855e-02  1.88561429e-01  2.26156941e-01  2.29621100e-01\n",
      "   2.63469651e-01  2.90330285e-01  2.68822453e-01  8.56192462e-01\n",
      "   8.85651969e-01  9.44997782e-01  1.00041701e+00]]\n"
     ]
    }
   ],
   "source": [
    "sc = StandardScaler()\n",
    "X_std =  sc.fit_transform(X)          \n",
    "cov_matrix = np.cov(X_std.T)\n",
    "print('Covariance Matrix \\n%s', cov_matrix)"
   ]
  },
  {
   "cell_type": "code",
   "execution_count": 156,
   "metadata": {},
   "outputs": [
    {
     "name": "stdout",
     "output_type": "stream",
     "text": [
      "Eigen Values:\n"
     ]
    },
    {
     "data": {
      "text/html": [
       "<div>\n",
       "<style scoped>\n",
       "    .dataframe tbody tr th:only-of-type {\n",
       "        vertical-align: middle;\n",
       "    }\n",
       "\n",
       "    .dataframe tbody tr th {\n",
       "        vertical-align: top;\n",
       "    }\n",
       "\n",
       "    .dataframe thead th {\n",
       "        text-align: right;\n",
       "    }\n",
       "</style>\n",
       "<table border=\"1\" class=\"dataframe\">\n",
       "  <thead>\n",
       "    <tr style=\"text-align: right;\">\n",
       "      <th></th>\n",
       "      <th>0</th>\n",
       "      <th>1</th>\n",
       "      <th>2</th>\n",
       "      <th>3</th>\n",
       "      <th>4</th>\n",
       "      <th>5</th>\n",
       "      <th>6</th>\n",
       "      <th>7</th>\n",
       "      <th>8</th>\n",
       "      <th>9</th>\n",
       "      <th>10</th>\n",
       "      <th>11</th>\n",
       "      <th>12</th>\n",
       "      <th>13</th>\n",
       "      <th>14</th>\n",
       "    </tr>\n",
       "  </thead>\n",
       "  <tbody>\n",
       "    <tr>\n",
       "      <th>0</th>\n",
       "      <td>5.216015</td>\n",
       "      <td>3.203751</td>\n",
       "      <td>1.529382</td>\n",
       "      <td>1.019989</td>\n",
       "      <td>0.964288</td>\n",
       "      <td>0.686367</td>\n",
       "      <td>0.568052</td>\n",
       "      <td>0.533817</td>\n",
       "      <td>0.416279</td>\n",
       "      <td>0.040668</td>\n",
       "      <td>0.051362</td>\n",
       "      <td>0.26891</td>\n",
       "      <td>0.130803</td>\n",
       "      <td>0.168661</td>\n",
       "      <td>0.207913</td>\n",
       "    </tr>\n",
       "  </tbody>\n",
       "</table>\n",
       "</div>"
      ],
      "text/plain": [
       "         0         1         2         3         4         5         6   \\\n",
       "0  5.216015  3.203751  1.529382  1.019989  0.964288  0.686367  0.568052   \n",
       "\n",
       "         7         8         9         10       11        12        13  \\\n",
       "0  0.533817  0.416279  0.040668  0.051362  0.26891  0.130803  0.168661   \n",
       "\n",
       "         14  \n",
       "0  0.207913  "
      ]
     },
     "execution_count": 156,
     "metadata": {},
     "output_type": "execute_result"
    }
   ],
   "source": [
    "eig_vals, eig_vecs = np.linalg.eig(cov_matrix)\n",
    "#print('Eigen Vectors \\n%s', eig_vecs)\n",
    "#print('\\n Eigen Values \\n%s', eig_vals)\n",
    "\n",
    "print(\"Eigen Values:\")\n",
    "pd.DataFrame(eig_vals).transpose()"
   ]
  },
  {
   "cell_type": "code",
   "execution_count": 157,
   "metadata": {},
   "outputs": [
    {
     "name": "stdout",
     "output_type": "stream",
     "text": [
      "Eigen Values:\n"
     ]
    },
    {
     "data": {
      "text/html": [
       "<div>\n",
       "<style scoped>\n",
       "    .dataframe tbody tr th:only-of-type {\n",
       "        vertical-align: middle;\n",
       "    }\n",
       "\n",
       "    .dataframe tbody tr th {\n",
       "        vertical-align: top;\n",
       "    }\n",
       "\n",
       "    .dataframe thead th {\n",
       "        text-align: right;\n",
       "    }\n",
       "</style>\n",
       "<table border=\"1\" class=\"dataframe\">\n",
       "  <thead>\n",
       "    <tr style=\"text-align: right;\">\n",
       "      <th></th>\n",
       "      <th>0</th>\n",
       "      <th>1</th>\n",
       "      <th>2</th>\n",
       "      <th>3</th>\n",
       "      <th>4</th>\n",
       "      <th>5</th>\n",
       "      <th>6</th>\n",
       "      <th>7</th>\n",
       "      <th>8</th>\n",
       "      <th>9</th>\n",
       "      <th>10</th>\n",
       "      <th>11</th>\n",
       "      <th>12</th>\n",
       "      <th>13</th>\n",
       "      <th>14</th>\n",
       "    </tr>\n",
       "  </thead>\n",
       "  <tbody>\n",
       "    <tr>\n",
       "      <th>0</th>\n",
       "      <td>34.758938</td>\n",
       "      <td>56.108375</td>\n",
       "      <td>66.300004</td>\n",
       "      <td>73.097093</td>\n",
       "      <td>79.522999</td>\n",
       "      <td>84.096872</td>\n",
       "      <td>87.882305</td>\n",
       "      <td>91.4396</td>\n",
       "      <td>94.213634</td>\n",
       "      <td>96.005622</td>\n",
       "      <td>97.39113</td>\n",
       "      <td>98.515068</td>\n",
       "      <td>99.386724</td>\n",
       "      <td>99.728995</td>\n",
       "      <td>100.0</td>\n",
       "    </tr>\n",
       "  </tbody>\n",
       "</table>\n",
       "</div>"
      ],
      "text/plain": [
       "          0          1          2          3          4          5   \\\n",
       "0  34.758938  56.108375  66.300004  73.097093  79.522999  84.096872   \n",
       "\n",
       "          6        7          8          9         10         11         12  \\\n",
       "0  87.882305  91.4396  94.213634  96.005622  97.39113  98.515068  99.386724   \n",
       "\n",
       "          13     14  \n",
       "0  99.728995  100.0  "
      ]
     },
     "execution_count": 157,
     "metadata": {},
     "output_type": "execute_result"
    }
   ],
   "source": [
    "tot = sum(eig_vals)\n",
    "var_exp = [( i /tot ) * 100 for i in sorted(eig_vals, reverse=True)]\n",
    "cum_var_exp = np.cumsum(var_exp)\n",
    "#print(\"Cumulative Variance Explained\", cum_var_exp)\n",
    "print(\"Eigen Values:\")\n",
    "pd.DataFrame(cum_var_exp).transpose()"
   ]
  },
  {
   "cell_type": "code",
   "execution_count": 160,
   "metadata": {},
   "outputs": [
    {
     "data": {
      "text/plain": [
       "(2399, 10)"
      ]
     },
     "execution_count": 160,
     "metadata": {},
     "output_type": "execute_result"
    }
   ],
   "source": [
    "X_std = sc.fit_transform(X)\n",
    "X_reduced = PCA(n_components=10).fit_transform(X_std)\n",
    "\n",
    "X_reduced.shape"
   ]
  },
  {
   "cell_type": "code",
   "execution_count": 127,
   "metadata": {},
   "outputs": [],
   "source": [
    "Test = NNH.predict(X_reduced)"
   ]
  },
  {
   "cell_type": "code",
   "execution_count": 161,
   "metadata": {},
   "outputs": [],
   "source": [
    "Test1 = model.predict(X_reduced)"
   ]
  },
  {
   "cell_type": "code",
   "execution_count": 162,
   "metadata": {},
   "outputs": [],
   "source": [
    "predict = pd.DataFrame({'Test1':Test}, columns= ['Test'], index = None)"
   ]
  },
  {
   "cell_type": "code",
   "execution_count": 163,
   "metadata": {},
   "outputs": [],
   "source": [
    "predict.to_csv('Test-New.csv', index=False)"
   ]
  }
 ],
 "metadata": {
  "kernelspec": {
   "display_name": "Python 3",
   "language": "python",
   "name": "python3"
  },
  "language_info": {
   "codemirror_mode": {
    "name": "ipython",
    "version": 3
   },
   "file_extension": ".py",
   "mimetype": "text/x-python",
   "name": "python",
   "nbconvert_exporter": "python",
   "pygments_lexer": "ipython3",
   "version": "3.7.3"
  }
 },
 "nbformat": 4,
 "nbformat_minor": 2
}
